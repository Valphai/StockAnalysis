{
 "metadata": {
  "language_info": {
   "codemirror_mode": {
    "name": "ipython",
    "version": 3
   },
   "file_extension": ".py",
   "mimetype": "text/x-python",
   "name": "python",
   "nbconvert_exporter": "python",
   "pygments_lexer": "ipython3",
   "version": "3.9.2"
  },
  "orig_nbformat": 2,
  "kernelspec": {
   "name": "python3",
   "display_name": "Python 3.9.2 64-bit",
   "metadata": {
    "interpreter": {
     "hash": "934feb9125a87dcea6f0babfc4241053f5f7a1eda0ae15ce7469e85b8d700af3"
    }
   }
  }
 },
 "nbformat": 4,
 "nbformat_minor": 2,
 "cells": [
  {
   "cell_type": "code",
   "execution_count": null,
   "metadata": {},
   "outputs": [],
   "source": [
    "from yahoofinancials import YahooFinancials\n",
    "import pandas as pd\n",
    "import numpy as np\n",
    "import plotly.graph_objects as go\n",
    "import datetime"
   ]
  },
  {
   "cell_type": "code",
   "execution_count": null,
   "metadata": {},
   "outputs": [],
   "source": [
    "def monthdelta(date, delta):\n",
    "    m, y = (date.month+delta) % 12, date.year + ((date.month)+delta-1) // 12\n",
    "    if not m: m = 12\n",
    "    d = min(date.day, [31,\n",
    "        29 if y%4==0 and (not y%100==0 or y%400 == 0) else 28,\n",
    "        31,30,31,30,31,31,30,31,30,31][m-1])\n",
    "    return date.replace(day=d,month=m, year=y)\n",
    "\n",
    "def support_resistance_line(high_frame, low_frame, current):\n",
    "    high, low = max(high_frame), min(low_frame)\n",
    "    P = (high + low + current)/3\n",
    "    R1 = (P*2)-low\n",
    "    R2 = P+(high-low)\n",
    "    S1=(P*2)-high\n",
    "    S2 = P-(high-low)\n",
    "    return max(S1,S2), min(R1,R2)\n",
    "\n",
    "def moving_average(column, day=200):\n",
    "    return column.rolling(day).mean()"
   ]
  },
  {
   "cell_type": "code",
   "execution_count": null,
   "metadata": {},
   "outputs": [],
   "source": [
    "now = datetime.datetime.now().date()\n",
    "months_before = str(monthdelta(now, -18))\n",
    "ticker = \"MSFT\"\n",
    "yf = YahooFinancials(ticker)\n",
    "\n",
    "current_price = yf.get_stock_price_data()[ticker][\"regularMarketPrice\"]\n",
    "\n",
    "history = yf.get_historical_price_data(months_before, str(now),\n",
    "                                       \"daily\")[ticker][\"prices\"]"
   ]
  },
  {
   "cell_type": "code",
   "execution_count": null,
   "metadata": {},
   "outputs": [],
   "source": [
    "from_history = lambda string : [history[i][str(string)] for i in range(len(history))]\n",
    "\n",
    "df = pd.DataFrame({\"Date\" : from_history(\"formatted_date\"),\n",
    "                   \"Open\" : from_history(\"open\"),\n",
    "                   \"Close\" : from_history(\"close\"),\n",
    "                   \"High\" : from_history(\"high\"),\n",
    "                   \"Low\" : from_history(\"low\")})\n",
    "df[\"Day Average\"] = [(df.High[i] + df.Low[i])/2 for i in range(df.shape[0])]\n",
    "print(df)"
   ]
  },
  {
   "cell_type": "code",
   "execution_count": null,
   "metadata": {},
   "outputs": [],
   "source": [
    "six_months = -180\n",
    "x = df.Date\n",
    "ma_y = moving_average(df.Close)\n",
    "s_y, r_y = support_resistance_line(df.High[six_months:], df.Low[six_months:], current_price)\n",
    "supp_y = [s_y for _ in range(len(x[six_months:]))]\n",
    "\n",
    "fig = go.Figure(data=[go.Candlestick(\n",
    "                            x=x,\n",
    "                            name=ticker,\n",
    "                            open=df.Open,\n",
    "                            high=df.High,\n",
    "                            low=df.Low,\n",
    "                            close=df.Close)])\n",
    "\n",
    "fig.add_trace(go.Scatter(x=x, y=ma_y, \n",
    "                        mode='lines', marker = dict( color = '#E377C2'),\n",
    "                        name='Moving average' ))\n",
    "\n",
    "fig.add_trace(go.Scatter(x=x[six_months:], y=supp_y, \n",
    "                        mode='lines', marker = dict( color = 'blue'),\n",
    "                        name='Support line' ))\n",
    "\n",
    "fig.show()"
   ]
  },
  {
   "cell_type": "code",
   "execution_count": null,
   "metadata": {},
   "outputs": [],
   "source": [
    "\"\"\"\n",
    "Generall algorithm:\n",
    "1. check if price near supp line\n",
    "2. check if above 200 MA\n",
    "3. check if buyers in control\n",
    "\"\"\""
   ]
  },
  {
   "cell_type": "code",
   "execution_count": null,
   "metadata": {},
   "outputs": [],
   "source": [
    "def hammer():\n",
    "    if df.Close > df.Open:\n",
    "        return True\n",
    "\n",
    "def above_MA():\n",
    "    if df.Open > ma_y:\n",
    "        return True\n",
    "\n",
    "def close_to_support():\n",
    "    if s_y * 1.05 < df.Open < s_y * 0.95:\n",
    "        return True\n",
    "\n",
    "df.iloc[(hammer()) & (above_MA()) & (close_to_support())]"
   ]
  }
 ]
}